{
  "cells": [
    {
      "cell_type": "markdown",
      "metadata": {
        "id": "view-in-github",
        "colab_type": "text"
      },
      "source": [
        "<a href=\"https://colab.research.google.com/github/joanirmir/Case_Studies/blob/main/6_functions_intro_v2.ipynb\" target=\"_parent\"><img src=\"https://colab.research.google.com/assets/colab-badge.svg\" alt=\"Open In Colab\"/></a>"
      ]
    },
    {
      "cell_type": "code",
      "execution_count": null,
      "metadata": {
        "id": "1AuVwHeOSbUV"
      },
      "outputs": [],
      "source": [
        "# Intro to functions"
      ]
    },
    {
      "cell_type": "markdown",
      "metadata": {
        "id": "28kiGmIsSbUa"
      },
      "source": [
        "A function is a block of organized, reusable code that is used to perform a single, related action. "
      ]
    },
    {
      "cell_type": "markdown",
      "metadata": {
        "id": "AebEIRURSbUc"
      },
      "source": [
        "### Function definition"
      ]
    },
    {
      "cell_type": "markdown",
      "metadata": {
        "id": "PkU7z8TmSbUd"
      },
      "source": [
        "You can define functions to provide the required functionality. Here are simple rules to define a function in Python.\n",
        "\n",
        "- Function block begins with the keyword `def` followed by the `function name` and parentheses `()`.\n",
        "- In some cases, you will see that these parentheses are empty when you define and invoke (execute) the function, but sometimes you will have to add parameters inside them when you define the function. The value you will be passing in these parentheses when you invoke function we call an argument.\n",
        "Here is an extra [resource from W2Schools](https://www.w3schools.com/python/gloss_python_function_arguments.asp#:~:text=The%20terms%20parameter%20and%20argument,function%20when%20it%20is%20called.) that can help you understand this terminology better.\n",
        "- The code block within every function starts with a colon (:) and is mandatory.\n",
        "- The first statement of a function can be an optional statement - the documentation string of the function or docstring.\n",
        "- The statement `return [expression]` exits a function, optionally passing back an expression to the caller. A return statement with no arguments is the same as return None."
      ]
    },
    {
      "cell_type": "code",
      "execution_count": null,
      "metadata": {
        "id": "TaTpFBJDSbUe"
      },
      "outputs": [],
      "source": [
        "#Syntax\n",
        "\n",
        "def functionname( parameters ):\n",
        "   \"function_docstring\"\n",
        "   #function_code here *indented*\n",
        "   #return [expression]"
      ]
    },
    {
      "cell_type": "markdown",
      "metadata": {
        "id": "J_ApVXD5SbUf"
      },
      "source": [
        "A function is a block of code which only runs when it is called.\n",
        "\n",
        "A function can return data as a result."
      ]
    },
    {
      "cell_type": "code",
      "execution_count": null,
      "metadata": {
        "id": "jp7pDJESSbUg"
      },
      "outputs": [],
      "source": [
        "#The function1 needs a parameter (\"x\") and it is going to multiply 5 * x\n",
        "\n",
        "def function1(x):\n",
        "    return 5 * x"
      ]
    },
    {
      "cell_type": "code",
      "execution_count": null,
      "metadata": {
        "id": "C7ITgsIASbUh"
      },
      "outputs": [],
      "source": [
        "#The variable \"a\" is going to save the result for this function\n",
        "# This is possible ONLY because the function definition contains a RETURN\n",
        "a = function1(2)"
      ]
    },
    {
      "cell_type": "code",
      "execution_count": null,
      "metadata": {
        "id": "Uy99Qq11SbUi",
        "outputId": "dd8742a5-0b60-496c-a3ec-70a560e82a67"
      },
      "outputs": [
        {
          "name": "stdout",
          "output_type": "stream",
          "text": [
            "10\n"
          ]
        }
      ],
      "source": [
        "#Use print to see the result (example = 5 * 2, 2 is x value)\n",
        "print(a)"
      ]
    },
    {
      "cell_type": "code",
      "execution_count": null,
      "metadata": {
        "id": "rtIaOdTSSbUm"
      },
      "outputs": [],
      "source": [
        "b = function1(1)"
      ]
    },
    {
      "cell_type": "code",
      "execution_count": null,
      "metadata": {
        "id": "cuDktckqSbUn",
        "outputId": "473ed308-f0c1-4cf7-b069-ac5e7193107a"
      },
      "outputs": [
        {
          "name": "stdout",
          "output_type": "stream",
          "text": [
            "5\n"
          ]
        }
      ],
      "source": [
        "print(b)"
      ]
    },
    {
      "cell_type": "code",
      "execution_count": null,
      "metadata": {
        "id": "DfkWXUrJSbUo",
        "outputId": "216faafe-7ae8-462e-f840-86c70d247a67"
      },
      "outputs": [
        {
          "name": "stdout",
          "output_type": "stream",
          "text": [
            "15\n"
          ]
        }
      ],
      "source": [
        "print(a + b)"
      ]
    },
    {
      "cell_type": "code",
      "execution_count": null,
      "metadata": {
        "id": "9AQ46Y8eSbUp"
      },
      "outputs": [],
      "source": [
        "#Also it can be two variables or mores in one function \n",
        "#The result is x + y \n",
        "def function2(x, y):\n",
        "    return x + y"
      ]
    },
    {
      "cell_type": "code",
      "execution_count": null,
      "metadata": {
        "id": "30kxqOtKSbUq",
        "outputId": "427a893a-2fac-4027-b86a-956684a91dfa"
      },
      "outputs": [
        {
          "name": "stdout",
          "output_type": "stream",
          "text": [
            "5\n"
          ]
        }
      ],
      "source": [
        "#The variable c saves the value\n",
        "c = function2(2, 3)\n",
        "print(c)"
      ]
    },
    {
      "cell_type": "markdown",
      "metadata": {
        "id": "-PduF8ihSbUr"
      },
      "source": [
        "# Exercise "
      ]
    },
    {
      "cell_type": "markdown",
      "metadata": {
        "id": "UtStOFvySbUs"
      },
      "source": [
        "\n",
        "Create a function called \"generation_calculator\" to help determine the generation you belong to according to your birth year. Follow the below information:\n",
        "\n",
        "```\n",
        "+-----------------+---------------------+\n",
        "|  birth_year     |      generation     |\n",
        "+-----------------+---------------------+\n",
        "|     < 1949      |  silent generation  |\n",
        "+-----------------+---------------------+\n",
        "|     < 1969      |     baby boomer     |\n",
        "+-----------------+---------------------+\n",
        "|     < 1981      |     X generation    | \n",
        "+-----------------+---------------------+\n",
        "|     < 1994      |      millennial     | \n",
        "+-----------------+---------------------+\n",
        "|     > 1994      |    Z generation     | \n",
        "+-----------------+---------------------+\n",
        "```\n",
        "\n",
        "Let's add some \"fake\" users whose data we will be using to validate if the function gives us the correct and expected result."
      ]
    },
    {
      "cell_type": "code",
      "execution_count": null,
      "metadata": {
        "id": "BlEQVtqeSbUu"
      },
      "outputs": [],
      "source": [
        "# Generation What?\n",
        "\n",
        "name1 = \"Jonh\"\n",
        "birth_year1 = 1989\n",
        "\n",
        "name2 = \"Mari\"\n",
        "birth_year2 = 1995\n",
        "\n",
        "name3 = \"Mich\"\n",
        "birth_year3 = 1960"
      ]
    },
    {
      "cell_type": "markdown",
      "metadata": {
        "id": "HJDT8ofmSbUu"
      },
      "source": [
        "1. Define the function generation calculator & add both parameters to represent both variables we are going to need in this function.\n",
        "2. Determine generation as a birth year (we need to know the year to be able to calculate)\n",
        "3. Print the results\n",
        "4. Write conditionals for each generation. For example, if you were born before 1949 you would be a \"silent generation\".\n",
        "5. Define variables for each result\n",
        "6. Show results"
      ]
    },
    {
      "cell_type": "code",
      "execution_count": null,
      "metadata": {
        "id": "UbgMw_4JSbUv"
      },
      "outputs": [],
      "source": [
        ""
      ]
    },
    {
      "cell_type": "code",
      "execution_count": null,
      "metadata": {
        "id": "8YyLwQHBSbUv"
      },
      "outputs": [],
      "source": [
        "# Your solution here"
      ]
    },
    {
      "cell_type": "markdown",
      "metadata": {
        "id": "tfkdaaYvSbUw"
      },
      "source": [
        "### Additional resources "
      ]
    },
    {
      "cell_type": "markdown",
      "metadata": {
        "id": "U0P5QvDASbUx"
      },
      "source": [
        "- [https://www.tutorialspoint.com/python/python_functions.htm](https://www.tutorialspoint.com/python/python_functions.htm)"
      ]
    }
  ],
  "metadata": {
    "kernelspec": {
      "display_name": "Python 3",
      "language": "python",
      "name": "python3"
    },
    "language_info": {
      "codemirror_mode": {
        "name": "ipython",
        "version": 3
      },
      "file_extension": ".py",
      "mimetype": "text/x-python",
      "name": "python",
      "nbconvert_exporter": "python",
      "pygments_lexer": "ipython3",
      "version": "3.7.8"
    },
    "colab": {
      "name": "6_functions_intro_v2.ipynb",
      "provenance": [],
      "include_colab_link": true
    }
  },
  "nbformat": 4,
  "nbformat_minor": 0
}